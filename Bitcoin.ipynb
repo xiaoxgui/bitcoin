{
 "cells": [
  {
   "cell_type": "code",
   "execution_count": 9,
   "id": "b066bc45-0f19-4ea1-8f4a-1407c37fe3a5",
   "metadata": {},
   "outputs": [],
   "source": [
    "from __future__ import annotations\n",
    "from dataclasses import dataclass\n",
    "\n",
    "@dataclass\n",
    "class Curve:\n",
    "    p: int \n",
    "    a: int\n",
    "    b: int\n",
    "bitcoin_curve = Curve(\n",
    "    p = 0xFFFFFFFFFFFFFFFFFFFFFFFFFFFFFFFFFFFFFFFFFFFFFFFFFFFFFFFEFFFFFC2F,\n",
    "    a = 0x0000000000000000000000000000000000000000000000000000000000000000,\n",
    "    b = 0x0000000000000000000000000000000000000000000000000000000000000007,\n",
    ")\n",
    "@dataclass\n",
    "class Point:\n",
    "    curve: Curve\n",
    "    x: int\n",
    "    y: int\n",
    "G = Point(\n",
    "    bitcoin_curve,\n",
    "    x = 0x79BE667EF9DCBBAC55A06295CE870B07029BFCDB2DCE28D959F2815B16F81798,\n",
    "    y = 0x483ada7726a3c4655da4fbfc0e1108a8fd17b448a68554199c47d08ffb10d4b8,\n",
    ")\n",
    "@dataclass\n",
    "class Generator:\n",
    "    G: Point    \n",
    "    n: int       \n",
    "bitcoin_gen = Generator(\n",
    "    G = G,\n",
    "    n = 0xFFFFFFFFFFFFFFFFFFFFFFFFFFFFFFFEBAAEDCE6AF48A03BBFD25E8CD0364141,\n",
    ")"
   ]
  },
  {
   "cell_type": "code",
   "execution_count": 10,
   "id": "0d65dced-1257-41a9-8e3f-0d0c558dc81d",
   "metadata": {},
   "outputs": [
    {
     "name": "stdout",
     "output_type": "stream",
     "text": [
      "7677598319458268898761430280509767812883470824180085351424850046206317539743\n",
      "(86463442827418004953700353423254145396537836348031404721108647784407580328548, 115079408992633968190757740375326947003882892108762726314729356343632646549571)\n"
     ]
    }
   ],
   "source": [
    "import random\n",
    "secret_key = random.randrange(1, bitcoin_gen.n) \n",
    "print(secret_key)\n",
    "from typing import Tuple\n",
    "def point_add(p1: Tuple[int, int], p2: Tuple[int, int], p: int, a: int) -> Tuple[int, int]:\n",
    "    x1, y1 = p1\n",
    "    x2, y2 = p2\n",
    "    if x1 == x2 and y1 == y2:\n",
    "        lam = (3 * x1 * x1 + a) * pow(2 * y1, p - 2, p)\n",
    "    else:\n",
    "        lam = (y2 - y1) * pow(x2 - x1, p - 2, p)\n",
    "    x3 = (lam * lam - x1 - x2) % p\n",
    "    y3 = (lam * (x1 - x3) - y1) % p\n",
    "    return x3, y3\n",
    "def point_mul(p: Tuple[int, int], d: int, P: int, a: int) -> Tuple[int, int]:\n",
    "    n = p\n",
    "    q = None\n",
    "    for i in range(256):\n",
    "        if d & (1 << i):\n",
    "            if q is None:\n",
    "                q = n\n",
    "            else:\n",
    "                q = point_add(q, n, P, a)\n",
    "        n = point_add(n, n, P, a)\n",
    "    return q\n",
    "public_key = point_mul((G.x,G.y), secret_key, bitcoin_curve.p, bitcoin_curve.a)\n",
    "print(public_key)"
   ]
  },
  {
   "cell_type": "code",
   "execution_count": null,
   "id": "a0802afb-880f-4256-847b-743551e15be5",
   "metadata": {},
   "outputs": [],
   "source": []
  }
 ],
 "metadata": {
  "kernelspec": {
   "display_name": "Python 3 (ipykernel)",
   "language": "python",
   "name": "python3"
  },
  "language_info": {
   "codemirror_mode": {
    "name": "ipython",
    "version": 3
   },
   "file_extension": ".py",
   "mimetype": "text/x-python",
   "name": "python",
   "nbconvert_exporter": "python",
   "pygments_lexer": "ipython3",
   "version": "3.9.13"
  }
 },
 "nbformat": 4,
 "nbformat_minor": 5
}
